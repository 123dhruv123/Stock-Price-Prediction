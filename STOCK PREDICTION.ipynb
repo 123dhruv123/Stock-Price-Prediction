{
 "cells": [
  {
   "cell_type": "code",
   "execution_count": 32,
   "metadata": {},
   "outputs": [],
   "source": [
    "import tensorflow.keras as keras\n",
    "from keras.models import Sequential\n",
    "from keras.layers import *\n",
    "from keras.utils import np_utils\n",
    "import pandas as pd\n",
    "import numpy as np\n",
    "from keras.callbacks import EarlyStopping , ModelCheckpoint\n",
    "from keras.models import load_model\n",
    "#from keras.optimizers import adam\n",
    "import matplotlib.pyplot as plt\n",
    "from sklearn.preprocessing import MinMaxScaler"
   ]
  },
  {
   "cell_type": "code",
   "execution_count": 56,
   "metadata": {},
   "outputs": [],
   "source": [
    "X_Train = pd.read_csv(\"stock price/x_train.csv\")"
   ]
  },
  {
   "cell_type": "code",
   "execution_count": 57,
   "metadata": {},
   "outputs": [],
   "source": [
    "Y_Train = pd.read_csv(\"stock price/y_train.csv\")"
   ]
  },
  {
   "cell_type": "code",
   "execution_count": 58,
   "metadata": {},
   "outputs": [
    {
     "data": {
      "text/html": [
       "<div>\n",
       "<style scoped>\n",
       "    .dataframe tbody tr th:only-of-type {\n",
       "        vertical-align: middle;\n",
       "    }\n",
       "\n",
       "    .dataframe tbody tr th {\n",
       "        vertical-align: top;\n",
       "    }\n",
       "\n",
       "    .dataframe thead th {\n",
       "        text-align: right;\n",
       "    }\n",
       "</style>\n",
       "<table border=\"1\" class=\"dataframe\">\n",
       "  <thead>\n",
       "    <tr style=\"text-align: right;\">\n",
       "      <th></th>\n",
       "      <th>High</th>\n",
       "    </tr>\n",
       "  </thead>\n",
       "  <tbody>\n",
       "    <tr>\n",
       "      <th>0</th>\n",
       "      <td>332.83</td>\n",
       "    </tr>\n",
       "    <tr>\n",
       "      <th>1</th>\n",
       "      <td>333.87</td>\n",
       "    </tr>\n",
       "    <tr>\n",
       "      <th>2</th>\n",
       "      <td>330.75</td>\n",
       "    </tr>\n",
       "    <tr>\n",
       "      <th>3</th>\n",
       "      <td>328.77</td>\n",
       "    </tr>\n",
       "    <tr>\n",
       "      <th>4</th>\n",
       "      <td>322.29</td>\n",
       "    </tr>\n",
       "  </tbody>\n",
       "</table>\n",
       "</div>"
      ],
      "text/plain": [
       "     High\n",
       "0  332.83\n",
       "1  333.87\n",
       "2  330.75\n",
       "3  328.77\n",
       "4  322.29"
      ]
     },
     "execution_count": 58,
     "metadata": {},
     "output_type": "execute_result"
    }
   ],
   "source": [
    "X_Train.head()"
   ]
  },
  {
   "cell_type": "code",
   "execution_count": 59,
   "metadata": {},
   "outputs": [
    {
     "name": "stdout",
     "output_type": "stream",
     "text": [
      "<class 'pandas.core.frame.DataFrame'>\n",
      "RangeIndex: 1257 entries, 0 to 1256\n",
      "Data columns (total 1 columns):\n",
      " #   Column  Non-Null Count  Dtype  \n",
      "---  ------  --------------  -----  \n",
      " 0   High    1257 non-null   float64\n",
      "dtypes: float64(1)\n",
      "memory usage: 9.9 KB\n"
     ]
    }
   ],
   "source": [
    "X_Train.info()"
   ]
  },
  {
   "cell_type": "code",
   "execution_count": 60,
   "metadata": {},
   "outputs": [],
   "source": [
    "X_Train = X_Train.values\n",
    "Y_Train = Y_Train.values"
   ]
  },
  {
   "cell_type": "code",
   "execution_count": 61,
   "metadata": {},
   "outputs": [],
   "source": [
    "mn = MinMaxScaler(feature_range=(0,1))"
   ]
  },
  {
   "cell_type": "code",
   "execution_count": 62,
   "metadata": {},
   "outputs": [],
   "source": [
    "X_Train = mn.fit_transform(X_Train)"
   ]
  },
  {
   "cell_type": "code",
   "execution_count": 63,
   "metadata": {},
   "outputs": [],
   "source": [
    "Y_Train = mn.transform(Y_Train)"
   ]
  },
  {
   "cell_type": "code",
   "execution_count": 64,
   "metadata": {},
   "outputs": [
    {
     "data": {
      "text/plain": [
       "array([[0.09640129],\n",
       "       [0.09834351],\n",
       "       [0.09251685],\n",
       "       ...,\n",
       "       [0.96485331],\n",
       "       [0.95807422],\n",
       "       [0.94257381]])"
      ]
     },
     "execution_count": 64,
     "metadata": {},
     "output_type": "execute_result"
    }
   ],
   "source": [
    "X_Train"
   ]
  },
  {
   "cell_type": "code",
   "execution_count": 65,
   "metadata": {},
   "outputs": [
    {
     "data": {
      "text/plain": [
       "(1257, 1)"
      ]
     },
     "execution_count": 65,
     "metadata": {},
     "output_type": "execute_result"
    }
   ],
   "source": [
    "X_Train.shape"
   ]
  },
  {
   "cell_type": "code",
   "execution_count": 66,
   "metadata": {},
   "outputs": [],
   "source": [
    "X_Train = X_Train.reshape((-1,1,1))"
   ]
  },
  {
   "cell_type": "code",
   "execution_count": 238,
   "metadata": {},
   "outputs": [],
   "source": [
    "model = Sequential()"
   ]
  },
  {
   "cell_type": "code",
   "execution_count": 239,
   "metadata": {},
   "outputs": [],
   "source": [
    "from keras.optimizers import Adam"
   ]
  },
  {
   "cell_type": "code",
   "execution_count": 240,
   "metadata": {},
   "outputs": [
    {
     "name": "stdout",
     "output_type": "stream",
     "text": [
      "Model: \"sequential_11\"\n",
      "_________________________________________________________________\n",
      "Layer (type)                 Output Shape              Param #   \n",
      "=================================================================\n",
      "lstm_22 (LSTM)               (None, None, 16)          1152      \n",
      "_________________________________________________________________\n",
      "lstm_23 (LSTM)               (None, 10)                1080      \n",
      "_________________________________________________________________\n",
      "dense_11 (Dense)             (None, 1)                 11        \n",
      "=================================================================\n",
      "Total params: 2,243\n",
      "Trainable params: 2,243\n",
      "Non-trainable params: 0\n",
      "_________________________________________________________________\n"
     ]
    }
   ],
   "source": [
    "#model = Sequential()\n",
    "model.add(LSTM(16,input_shape=(None,1),return_sequences=True))\n",
    "model.add(LSTM(10,return_sequences=False))\n",
    "model.add(Dense(1))\n",
    "model.compile(loss='mean_squared_error',optimizer=Adam(lr = 0.00003),metrics=['accuracy'])\n",
    "model.summary()"
   ]
  },
  {
   "cell_type": "code",
   "execution_count": 241,
   "metadata": {},
   "outputs": [
    {
     "data": {
      "text/plain": [
       "(1257, 1)"
      ]
     },
     "execution_count": 241,
     "metadata": {},
     "output_type": "execute_result"
    }
   ],
   "source": [
    "Y_Train.shape"
   ]
  },
  {
   "cell_type": "code",
   "execution_count": 242,
   "metadata": {
    "scrolled": false
   },
   "outputs": [
    {
     "name": "stdout",
     "output_type": "stream",
     "text": [
      "Epoch 1/100\n",
      "32/32 [==============================] - 1s 28ms/step - loss: 0.1978 - accuracy: 9.9502e-04 - val_loss: 0.7703 - val_accuracy: 0.0000e+00\n",
      "Epoch 2/100\n",
      "32/32 [==============================] - 0s 7ms/step - loss: 0.1959 - accuracy: 9.9502e-04 - val_loss: 0.7654 - val_accuracy: 0.0000e+00\n",
      "Epoch 3/100\n",
      "32/32 [==============================] - 0s 7ms/step - loss: 0.1939 - accuracy: 9.9502e-04 - val_loss: 0.7604 - val_accuracy: 0.0000e+00\n",
      "Epoch 4/100\n",
      "32/32 [==============================] - 0s 7ms/step - loss: 0.1920 - accuracy: 9.9502e-04 - val_loss: 0.7554 - val_accuracy: 0.0000e+00\n",
      "Epoch 5/100\n",
      "32/32 [==============================] - 0s 7ms/step - loss: 0.1901 - accuracy: 9.9502e-04 - val_loss: 0.7504 - val_accuracy: 0.0000e+00\n",
      "Epoch 6/100\n",
      "32/32 [==============================] - 0s 7ms/step - loss: 0.1882 - accuracy: 9.9502e-04 - val_loss: 0.7455 - val_accuracy: 0.0000e+00\n",
      "Epoch 7/100\n",
      "32/32 [==============================] - 0s 7ms/step - loss: 0.1864 - accuracy: 9.9502e-04 - val_loss: 0.7405 - val_accuracy: 0.0000e+00\n",
      "Epoch 8/100\n",
      "32/32 [==============================] - 0s 4ms/step - loss: 0.1845 - accuracy: 9.9502e-04 - val_loss: 0.7356 - val_accuracy: 0.0000e+00\n",
      "Epoch 9/100\n",
      "32/32 [==============================] - 0s 4ms/step - loss: 0.1826 - accuracy: 9.9502e-04 - val_loss: 0.7307 - val_accuracy: 0.0000e+00\n",
      "Epoch 10/100\n",
      "32/32 [==============================] - 0s 4ms/step - loss: 0.1807 - accuracy: 9.9502e-04 - val_loss: 0.7257 - val_accuracy: 0.0000e+00\n",
      "Epoch 11/100\n",
      "32/32 [==============================] - 0s 5ms/step - loss: 0.1789 - accuracy: 9.9502e-04 - val_loss: 0.7207 - val_accuracy: 0.0000e+00\n",
      "Epoch 12/100\n",
      "32/32 [==============================] - 0s 5ms/step - loss: 0.1770 - accuracy: 9.9502e-04 - val_loss: 0.7157 - val_accuracy: 0.0000e+00\n",
      "Epoch 13/100\n",
      "32/32 [==============================] - 0s 4ms/step - loss: 0.1751 - accuracy: 9.9502e-04 - val_loss: 0.7107 - val_accuracy: 0.0000e+00\n",
      "Epoch 14/100\n",
      "32/32 [==============================] - 0s 5ms/step - loss: 0.1733 - accuracy: 9.9502e-04 - val_loss: 0.7056 - val_accuracy: 0.0000e+00\n",
      "Epoch 15/100\n",
      "32/32 [==============================] - 0s 6ms/step - loss: 0.1714 - accuracy: 9.9502e-04 - val_loss: 0.7005 - val_accuracy: 0.0000e+00\n",
      "Epoch 16/100\n",
      "32/32 [==============================] - 0s 6ms/step - loss: 0.1695 - accuracy: 9.9502e-04 - val_loss: 0.6954 - val_accuracy: 0.0000e+00\n",
      "Epoch 17/100\n",
      "32/32 [==============================] - 0s 5ms/step - loss: 0.1677 - accuracy: 9.9502e-04 - val_loss: 0.6903 - val_accuracy: 0.0000e+00\n",
      "Epoch 18/100\n",
      "32/32 [==============================] - 0s 4ms/step - loss: 0.1658 - accuracy: 9.9502e-04 - val_loss: 0.6851 - val_accuracy: 0.0000e+00\n",
      "Epoch 19/100\n",
      "32/32 [==============================] - 0s 5ms/step - loss: 0.1639 - accuracy: 9.9502e-04 - val_loss: 0.6799 - val_accuracy: 0.0000e+00\n",
      "Epoch 20/100\n",
      "32/32 [==============================] - 0s 5ms/step - loss: 0.1620 - accuracy: 9.9502e-04 - val_loss: 0.6746 - val_accuracy: 0.0000e+00\n",
      "Epoch 21/100\n",
      "32/32 [==============================] - 0s 5ms/step - loss: 0.1602 - accuracy: 9.9502e-04 - val_loss: 0.6693 - val_accuracy: 0.0000e+00\n",
      "Epoch 22/100\n",
      "32/32 [==============================] - 0s 4ms/step - loss: 0.1583 - accuracy: 9.9502e-04 - val_loss: 0.6640 - val_accuracy: 0.0000e+00\n",
      "Epoch 23/100\n",
      "32/32 [==============================] - 0s 5ms/step - loss: 0.1564 - accuracy: 9.9502e-04 - val_loss: 0.6586 - val_accuracy: 0.0000e+00\n",
      "Epoch 24/100\n",
      "32/32 [==============================] - 0s 5ms/step - loss: 0.1545 - accuracy: 9.9502e-04 - val_loss: 0.6532 - val_accuracy: 0.0000e+00\n",
      "Epoch 25/100\n",
      "32/32 [==============================] - 0s 4ms/step - loss: 0.1526 - accuracy: 9.9502e-04 - val_loss: 0.6477 - val_accuracy: 0.0000e+00\n",
      "Epoch 26/100\n",
      "32/32 [==============================] - 0s 4ms/step - loss: 0.1506 - accuracy: 9.9502e-04 - val_loss: 0.6421 - val_accuracy: 0.0000e+00\n",
      "Epoch 27/100\n",
      "32/32 [==============================] - 0s 4ms/step - loss: 0.1487 - accuracy: 9.9502e-04 - val_loss: 0.6366 - val_accuracy: 0.0000e+00\n",
      "Epoch 28/100\n",
      "32/32 [==============================] - 0s 4ms/step - loss: 0.1468 - accuracy: 9.9502e-04 - val_loss: 0.6310 - val_accuracy: 0.0000e+00\n",
      "Epoch 29/100\n",
      "32/32 [==============================] - 0s 3ms/step - loss: 0.1449 - accuracy: 9.9502e-04 - val_loss: 0.6253 - val_accuracy: 0.0000e+00\n",
      "Epoch 30/100\n",
      "32/32 [==============================] - 0s 4ms/step - loss: 0.1429 - accuracy: 9.9502e-04 - val_loss: 0.6196 - val_accuracy: 0.0000e+00\n",
      "Epoch 31/100\n",
      "32/32 [==============================] - 0s 5ms/step - loss: 0.1410 - accuracy: 9.9502e-04 - val_loss: 0.6138 - val_accuracy: 0.0000e+00\n",
      "Epoch 32/100\n",
      "32/32 [==============================] - 0s 6ms/step - loss: 0.1391 - accuracy: 9.9502e-04 - val_loss: 0.6080 - val_accuracy: 0.0000e+00\n",
      "Epoch 33/100\n",
      "32/32 [==============================] - 0s 5ms/step - loss: 0.1371 - accuracy: 9.9502e-04 - val_loss: 0.6021 - val_accuracy: 0.0000e+00\n",
      "Epoch 34/100\n",
      "32/32 [==============================] - 0s 4ms/step - loss: 0.1352 - accuracy: 9.9502e-04 - val_loss: 0.5962 - val_accuracy: 0.0000e+00\n",
      "Epoch 35/100\n",
      "32/32 [==============================] - 0s 3ms/step - loss: 0.1332 - accuracy: 9.9502e-04 - val_loss: 0.5903 - val_accuracy: 0.0000e+00\n",
      "Epoch 36/100\n",
      "32/32 [==============================] - 0s 5ms/step - loss: 0.1313 - accuracy: 9.9502e-04 - val_loss: 0.5844 - val_accuracy: 0.0000e+00\n",
      "Epoch 37/100\n",
      "32/32 [==============================] - 0s 5ms/step - loss: 0.1294 - accuracy: 9.9502e-04 - val_loss: 0.5784 - val_accuracy: 0.0000e+00\n",
      "Epoch 38/100\n",
      "32/32 [==============================] - 0s 5ms/step - loss: 0.1274 - accuracy: 9.9502e-04 - val_loss: 0.5723 - val_accuracy: 0.0000e+00\n",
      "Epoch 39/100\n",
      "32/32 [==============================] - 0s 5ms/step - loss: 0.1255 - accuracy: 9.9502e-04 - val_loss: 0.5662 - val_accuracy: 0.0000e+00\n",
      "Epoch 40/100\n",
      "32/32 [==============================] - 0s 5ms/step - loss: 0.1235 - accuracy: 9.9502e-04 - val_loss: 0.5601 - val_accuracy: 0.0000e+00\n",
      "Epoch 41/100\n",
      "32/32 [==============================] - 0s 5ms/step - loss: 0.1216 - accuracy: 9.9502e-04 - val_loss: 0.5540 - val_accuracy: 0.0000e+00\n",
      "Epoch 42/100\n",
      "32/32 [==============================] - 0s 4ms/step - loss: 0.1197 - accuracy: 9.9502e-04 - val_loss: 0.5479 - val_accuracy: 0.0000e+00\n",
      "Epoch 43/100\n",
      "32/32 [==============================] - 0s 14ms/step - loss: 0.1177 - accuracy: 9.9502e-04 - val_loss: 0.5416 - val_accuracy: 0.0000e+00\n",
      "Epoch 44/100\n",
      "32/32 [==============================] - 0s 8ms/step - loss: 0.1158 - accuracy: 9.9502e-04 - val_loss: 0.5354 - val_accuracy: 0.0000e+00\n",
      "Epoch 45/100\n",
      "32/32 [==============================] - 0s 6ms/step - loss: 0.1139 - accuracy: 9.9502e-04 - val_loss: 0.5291 - val_accuracy: 0.0000e+00\n",
      "Epoch 46/100\n",
      "32/32 [==============================] - 0s 6ms/step - loss: 0.1120 - accuracy: 9.9502e-04 - val_loss: 0.5227 - val_accuracy: 0.0000e+00\n",
      "Epoch 47/100\n",
      "32/32 [==============================] - 0s 4ms/step - loss: 0.1101 - accuracy: 9.9502e-04 - val_loss: 0.5164 - val_accuracy: 0.0000e+00\n",
      "Epoch 48/100\n",
      "32/32 [==============================] - 0s 5ms/step - loss: 0.1082 - accuracy: 9.9502e-04 - val_loss: 0.5101 - val_accuracy: 0.0000e+00\n",
      "Epoch 49/100\n",
      "32/32 [==============================] - 0s 6ms/step - loss: 0.1063 - accuracy: 9.9502e-04 - val_loss: 0.5037 - val_accuracy: 0.0000e+00\n",
      "Epoch 50/100\n",
      "32/32 [==============================] - 0s 5ms/step - loss: 0.1044 - accuracy: 9.9502e-04 - val_loss: 0.4974 - val_accuracy: 0.0000e+00\n",
      "Epoch 51/100\n",
      "32/32 [==============================] - 0s 5ms/step - loss: 0.1025 - accuracy: 9.9502e-04 - val_loss: 0.4908 - val_accuracy: 0.0000e+00\n",
      "Epoch 52/100\n",
      "32/32 [==============================] - 0s 8ms/step - loss: 0.1006 - accuracy: 9.9502e-04 - val_loss: 0.4845 - val_accuracy: 0.0000e+00\n",
      "Epoch 53/100\n",
      "32/32 [==============================] - 0s 6ms/step - loss: 0.0988 - accuracy: 9.9502e-04 - val_loss: 0.4780 - val_accuracy: 0.0000e+00\n",
      "Epoch 54/100\n",
      "32/32 [==============================] - 0s 5ms/step - loss: 0.0969 - accuracy: 9.9502e-04 - val_loss: 0.4715 - val_accuracy: 0.0000e+00\n",
      "Epoch 55/100\n",
      "32/32 [==============================] - 0s 5ms/step - loss: 0.0951 - accuracy: 9.9502e-04 - val_loss: 0.4650 - val_accuracy: 0.0000e+00\n"
     ]
    },
    {
     "name": "stdout",
     "output_type": "stream",
     "text": [
      "Epoch 56/100\n",
      "32/32 [==============================] - 0s 4ms/step - loss: 0.0933 - accuracy: 9.9502e-04 - val_loss: 0.4585 - val_accuracy: 0.0000e+00\n",
      "Epoch 57/100\n",
      "32/32 [==============================] - 0s 4ms/step - loss: 0.0914 - accuracy: 9.9502e-04 - val_loss: 0.4520 - val_accuracy: 0.0000e+00\n",
      "Epoch 58/100\n",
      "32/32 [==============================] - 0s 5ms/step - loss: 0.0896 - accuracy: 9.9502e-04 - val_loss: 0.4453 - val_accuracy: 0.0000e+00\n",
      "Epoch 59/100\n",
      "32/32 [==============================] - 0s 6ms/step - loss: 0.0878 - accuracy: 9.9502e-04 - val_loss: 0.4388 - val_accuracy: 0.0000e+00\n",
      "Epoch 60/100\n",
      "32/32 [==============================] - 0s 6ms/step - loss: 0.0861 - accuracy: 9.9502e-04 - val_loss: 0.4322 - val_accuracy: 0.0000e+00\n",
      "Epoch 61/100\n",
      "32/32 [==============================] - 0s 7ms/step - loss: 0.0843 - accuracy: 9.9502e-04 - val_loss: 0.4257 - val_accuracy: 0.0000e+00\n",
      "Epoch 62/100\n",
      "32/32 [==============================] - 0s 6ms/step - loss: 0.0826 - accuracy: 9.9502e-04 - val_loss: 0.4192 - val_accuracy: 0.0000e+00\n",
      "Epoch 63/100\n",
      "32/32 [==============================] - 0s 8ms/step - loss: 0.0809 - accuracy: 9.9502e-04 - val_loss: 0.4126 - val_accuracy: 0.0000e+00\n",
      "Epoch 64/100\n",
      "32/32 [==============================] - 0s 5ms/step - loss: 0.0792 - accuracy: 9.9502e-04 - val_loss: 0.4060 - val_accuracy: 0.0000e+00\n",
      "Epoch 65/100\n",
      "32/32 [==============================] - 0s 5ms/step - loss: 0.0775 - accuracy: 9.9502e-04 - val_loss: 0.3995 - val_accuracy: 0.0000e+00\n",
      "Epoch 66/100\n",
      "32/32 [==============================] - 0s 4ms/step - loss: 0.0758 - accuracy: 9.9502e-04 - val_loss: 0.3930 - val_accuracy: 0.0000e+00\n",
      "Epoch 67/100\n",
      "32/32 [==============================] - 0s 6ms/step - loss: 0.0742 - accuracy: 9.9502e-04 - val_loss: 0.3865 - val_accuracy: 0.0000e+00\n",
      "Epoch 68/100\n",
      "32/32 [==============================] - 0s 6ms/step - loss: 0.0726 - accuracy: 9.9502e-04 - val_loss: 0.3800 - val_accuracy: 0.0000e+00\n",
      "Epoch 69/100\n",
      "32/32 [==============================] - 0s 6ms/step - loss: 0.0710 - accuracy: 9.9502e-04 - val_loss: 0.3735 - val_accuracy: 0.0000e+00\n",
      "Epoch 70/100\n",
      "32/32 [==============================] - 0s 5ms/step - loss: 0.0694 - accuracy: 9.9502e-04 - val_loss: 0.3672 - val_accuracy: 0.0000e+00\n",
      "Epoch 71/100\n",
      "32/32 [==============================] - 0s 4ms/step - loss: 0.0679 - accuracy: 9.9502e-04 - val_loss: 0.3607 - val_accuracy: 0.0000e+00\n",
      "Epoch 72/100\n",
      "32/32 [==============================] - 0s 4ms/step - loss: 0.0664 - accuracy: 9.9502e-04 - val_loss: 0.3543 - val_accuracy: 0.0000e+00\n",
      "Epoch 73/100\n",
      "32/32 [==============================] - 0s 4ms/step - loss: 0.0649 - accuracy: 9.9502e-04 - val_loss: 0.3480 - val_accuracy: 0.0000e+00\n",
      "Epoch 74/100\n",
      "32/32 [==============================] - 0s 4ms/step - loss: 0.0634 - accuracy: 9.9502e-04 - val_loss: 0.3417 - val_accuracy: 0.0000e+00\n",
      "Epoch 75/100\n",
      "32/32 [==============================] - 0s 7ms/step - loss: 0.0620 - accuracy: 9.9502e-04 - val_loss: 0.3353 - val_accuracy: 0.0000e+00\n",
      "Epoch 76/100\n",
      "32/32 [==============================] - 0s 9ms/step - loss: 0.0606 - accuracy: 9.9502e-04 - val_loss: 0.3290 - val_accuracy: 0.0000e+00\n",
      "Epoch 77/100\n",
      "32/32 [==============================] - 0s 8ms/step - loss: 0.0592 - accuracy: 9.9502e-04 - val_loss: 0.3228 - val_accuracy: 0.0000e+00\n",
      "Epoch 78/100\n",
      "32/32 [==============================] - 0s 4ms/step - loss: 0.0578 - accuracy: 9.9502e-04 - val_loss: 0.3168 - val_accuracy: 0.0000e+00\n",
      "Epoch 79/100\n",
      "32/32 [==============================] - 0s 4ms/step - loss: 0.0565 - accuracy: 9.9502e-04 - val_loss: 0.3106 - val_accuracy: 0.0000e+00\n",
      "Epoch 80/100\n",
      "32/32 [==============================] - 0s 4ms/step - loss: 0.0553 - accuracy: 9.9502e-04 - val_loss: 0.3046 - val_accuracy: 0.0000e+00\n",
      "Epoch 81/100\n",
      "32/32 [==============================] - 0s 5ms/step - loss: 0.0540 - accuracy: 9.9502e-04 - val_loss: 0.2985 - val_accuracy: 0.0000e+00\n",
      "Epoch 82/100\n",
      "32/32 [==============================] - 0s 4ms/step - loss: 0.0528 - accuracy: 9.9502e-04 - val_loss: 0.2926 - val_accuracy: 0.0000e+00\n",
      "Epoch 83/100\n",
      "32/32 [==============================] - 0s 6ms/step - loss: 0.0516 - accuracy: 9.9502e-04 - val_loss: 0.2866 - val_accuracy: 0.0000e+00\n",
      "Epoch 84/100\n",
      "32/32 [==============================] - 0s 8ms/step - loss: 0.0504 - accuracy: 9.9502e-04 - val_loss: 0.2809 - val_accuracy: 0.0000e+00\n",
      "Epoch 85/100\n",
      "32/32 [==============================] - 0s 8ms/step - loss: 0.0493 - accuracy: 9.9502e-04 - val_loss: 0.2751 - val_accuracy: 0.0000e+00\n",
      "Epoch 86/100\n",
      "32/32 [==============================] - 0s 8ms/step - loss: 0.0482 - accuracy: 9.9502e-04 - val_loss: 0.2695 - val_accuracy: 0.0000e+00\n",
      "Epoch 87/100\n",
      "32/32 [==============================] - 0s 7ms/step - loss: 0.0472 - accuracy: 9.9502e-04 - val_loss: 0.2640 - val_accuracy: 0.0000e+00\n",
      "Epoch 88/100\n",
      "32/32 [==============================] - 0s 6ms/step - loss: 0.0462 - accuracy: 9.9502e-04 - val_loss: 0.2584 - val_accuracy: 0.0000e+00\n",
      "Epoch 89/100\n",
      "32/32 [==============================] - 0s 9ms/step - loss: 0.0452 - accuracy: 9.9502e-04 - val_loss: 0.2527 - val_accuracy: 0.0000e+00\n",
      "Epoch 90/100\n",
      "32/32 [==============================] - 0s 6ms/step - loss: 0.0442 - accuracy: 9.9502e-04 - val_loss: 0.2476 - val_accuracy: 0.0000e+00\n",
      "Epoch 91/100\n",
      "32/32 [==============================] - 0s 6ms/step - loss: 0.0433 - accuracy: 9.9502e-04 - val_loss: 0.2424 - val_accuracy: 0.0000e+00\n",
      "Epoch 92/100\n",
      "32/32 [==============================] - 0s 6ms/step - loss: 0.0424 - accuracy: 9.9502e-04 - val_loss: 0.2374 - val_accuracy: 0.0000e+00\n",
      "Epoch 93/100\n",
      "32/32 [==============================] - 0s 6ms/step - loss: 0.0416 - accuracy: 9.9502e-04 - val_loss: 0.2321 - val_accuracy: 0.0000e+00\n",
      "Epoch 94/100\n",
      "32/32 [==============================] - 0s 5ms/step - loss: 0.0408 - accuracy: 9.9502e-04 - val_loss: 0.2273 - val_accuracy: 0.0000e+00\n",
      "Epoch 95/100\n",
      "32/32 [==============================] - 0s 5ms/step - loss: 0.0400 - accuracy: 9.9502e-04 - val_loss: 0.2222 - val_accuracy: 0.0000e+00\n",
      "Epoch 96/100\n",
      "32/32 [==============================] - 0s 6ms/step - loss: 0.0392 - accuracy: 9.9502e-04 - val_loss: 0.2175 - val_accuracy: 0.0000e+00\n",
      "Epoch 97/100\n",
      "32/32 [==============================] - 0s 6ms/step - loss: 0.0385 - accuracy: 9.9502e-04 - val_loss: 0.2127 - val_accuracy: 0.0000e+00\n",
      "Epoch 98/100\n",
      "32/32 [==============================] - 0s 5ms/step - loss: 0.0378 - accuracy: 9.9502e-04 - val_loss: 0.2080 - val_accuracy: 0.0000e+00\n",
      "Epoch 99/100\n",
      "32/32 [==============================] - 0s 8ms/step - loss: 0.0372 - accuracy: 9.9502e-04 - val_loss: 0.2035 - val_accuracy: 0.0000e+00\n",
      "Epoch 100/100\n",
      "32/32 [==============================] - 0s 5ms/step - loss: 0.0365 - accuracy: 9.9502e-04 - val_loss: 0.1992 - val_accuracy: 0.0000e+00\n"
     ]
    }
   ],
   "source": [
    "hist = model.fit(X_Train,Y_Train,epochs=100,batch_size=32,validation_split=0.2)"
   ]
  },
  {
   "cell_type": "code",
   "execution_count": 243,
   "metadata": {},
   "outputs": [],
   "source": [
    "X_Test = pd.read_csv(\"stock price/x_test.csv\")"
   ]
  },
  {
   "cell_type": "code",
   "execution_count": 244,
   "metadata": {},
   "outputs": [],
   "source": [
    "X_Test = X_Test.values"
   ]
  },
  {
   "cell_type": "code",
   "execution_count": 245,
   "metadata": {},
   "outputs": [],
   "source": [
    "mnt = MinMaxScaler(feature_range=(0,1))\n",
    "\n",
    "X_Test = mnt.fit_transform(X_Test)"
   ]
  },
  {
   "cell_type": "code",
   "execution_count": 246,
   "metadata": {},
   "outputs": [],
   "source": [
    "#model.save('stock price/best_model.h5')"
   ]
  },
  {
   "cell_type": "code",
   "execution_count": 247,
   "metadata": {},
   "outputs": [],
   "source": [
    "#model.load_weights('stock price/best_model.h5')"
   ]
  },
  {
   "cell_type": "code",
   "execution_count": 248,
   "metadata": {},
   "outputs": [],
   "source": [
    "X_Test = X_Test.reshape(-1,1,1)"
   ]
  },
  {
   "cell_type": "code",
   "execution_count": 249,
   "metadata": {},
   "outputs": [],
   "source": [
    "pred = model.predict(X_Test)"
   ]
  },
  {
   "cell_type": "code",
   "execution_count": 250,
   "metadata": {},
   "outputs": [
    {
     "data": {
      "text/plain": [
       "(19, 1)"
      ]
     },
     "execution_count": 250,
     "metadata": {},
     "output_type": "execute_result"
    }
   ],
   "source": [
    "pred.shape"
   ]
  },
  {
   "cell_type": "code",
   "execution_count": 251,
   "metadata": {},
   "outputs": [],
   "source": [
    "pred = pred.reshape((-1,1))"
   ]
  },
  {
   "cell_type": "code",
   "execution_count": 252,
   "metadata": {},
   "outputs": [],
   "source": [
    "pred = mnt.inverse_transform(pred)"
   ]
  },
  {
   "cell_type": "code",
   "execution_count": 253,
   "metadata": {},
   "outputs": [
    {
     "data": {
      "text/plain": [
       "array([[802.9751 ],\n",
       "       [803.28314],\n",
       "       [803.8573 ],\n",
       "       [806.43   ],\n",
       "       [806.8426 ],\n",
       "       [806.6747 ],\n",
       "       [806.4796 ],\n",
       "       [806.3289 ],\n",
       "       [807.09357],\n",
       "       [806.2795 ],\n",
       "       [806.09607],\n",
       "       [806.7445 ],\n",
       "       [806.2341 ],\n",
       "       [809.07465],\n",
       "       [810.1342 ],\n",
       "       [812.2558 ],\n",
       "       [812.74146],\n",
       "       [813.606  ],\n",
       "       [808.0328 ]], dtype=float32)"
      ]
     },
     "execution_count": 253,
     "metadata": {},
     "output_type": "execute_result"
    }
   ],
   "source": [
    "pred"
   ]
  },
  {
   "cell_type": "code",
   "execution_count": 254,
   "metadata": {},
   "outputs": [],
   "source": [
    "df = pd.DataFrame(pred,columns = ['High'])"
   ]
  },
  {
   "cell_type": "code",
   "execution_count": 255,
   "metadata": {},
   "outputs": [
    {
     "data": {
      "text/html": [
       "<div>\n",
       "<style scoped>\n",
       "    .dataframe tbody tr th:only-of-type {\n",
       "        vertical-align: middle;\n",
       "    }\n",
       "\n",
       "    .dataframe tbody tr th {\n",
       "        vertical-align: top;\n",
       "    }\n",
       "\n",
       "    .dataframe thead th {\n",
       "        text-align: right;\n",
       "    }\n",
       "</style>\n",
       "<table border=\"1\" class=\"dataframe\">\n",
       "  <thead>\n",
       "    <tr style=\"text-align: right;\">\n",
       "      <th></th>\n",
       "      <th>High</th>\n",
       "    </tr>\n",
       "  </thead>\n",
       "  <tbody>\n",
       "    <tr>\n",
       "      <th>0</th>\n",
       "      <td>802.975098</td>\n",
       "    </tr>\n",
       "    <tr>\n",
       "      <th>1</th>\n",
       "      <td>803.283142</td>\n",
       "    </tr>\n",
       "    <tr>\n",
       "      <th>2</th>\n",
       "      <td>803.857300</td>\n",
       "    </tr>\n",
       "    <tr>\n",
       "      <th>3</th>\n",
       "      <td>806.429993</td>\n",
       "    </tr>\n",
       "    <tr>\n",
       "      <th>4</th>\n",
       "      <td>806.842590</td>\n",
       "    </tr>\n",
       "  </tbody>\n",
       "</table>\n",
       "</div>"
      ],
      "text/plain": [
       "         High\n",
       "0  802.975098\n",
       "1  803.283142\n",
       "2  803.857300\n",
       "3  806.429993\n",
       "4  806.842590"
      ]
     },
     "execution_count": 255,
     "metadata": {},
     "output_type": "execute_result"
    }
   ],
   "source": [
    "df.head()"
   ]
  },
  {
   "cell_type": "code",
   "execution_count": 256,
   "metadata": {},
   "outputs": [],
   "source": [
    "df.to_csv(\"stock price/predictions8.csv\",index=False)"
   ]
  },
  {
   "cell_type": "code",
   "execution_count": null,
   "metadata": {},
   "outputs": [],
   "source": []
  }
 ],
 "metadata": {
  "kernelspec": {
   "display_name": "Python 3",
   "language": "python",
   "name": "python3"
  },
  "language_info": {
   "codemirror_mode": {
    "name": "ipython",
    "version": 3
   },
   "file_extension": ".py",
   "mimetype": "text/x-python",
   "name": "python",
   "nbconvert_exporter": "python",
   "pygments_lexer": "ipython3",
   "version": "3.7.3"
  }
 },
 "nbformat": 4,
 "nbformat_minor": 4
}
